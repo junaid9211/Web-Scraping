{
 "cells": [
  {
   "cell_type": "markdown",
   "id": "6bfcf2c7-4f7c-40e3-bceb-59ede1b2ed92",
   "metadata": {},
   "source": [
    "# Scraping book summaries\n",
    "In this practice project, I will be scraping book summaries from [James Clear's Website](https://jamesclear.com/book-summaries)\n",
    "\n",
    "This is a very simple project, the page lists 55 books in total, first I will grab the title and short summary from the list page\n",
    "Then I will open page of each book and grab title, short summary and also long summary of the book"
   ]
  },
  {
   "cell_type": "markdown",
   "id": "01a4cf4d-24a4-4ecc-b65e-e9d65a4c5ac1",
   "metadata": {},
   "source": [
    "## Imports"
   ]
  },
  {
   "cell_type": "code",
   "execution_count": 147,
   "id": "80d73ef4-a270-4280-a18e-f60a0897f227",
   "metadata": {},
   "outputs": [],
   "source": [
    "import requests\n",
    "from bs4 import BeautifulSoup as bs\n",
    "import re\n",
    "import csv\n",
    "import threading\n",
    "import pandas as pd"
   ]
  },
  {
   "cell_type": "markdown",
   "id": "0e2ff00f-ec28-4f92-a700-b72bf26d49fc",
   "metadata": {},
   "source": [
    "## Grab short summaries of all books"
   ]
  },
  {
   "cell_type": "code",
   "execution_count": 149,
   "id": "d8d52a08-8de4-49c2-8b87-4d0ecf8d1232",
   "metadata": {},
   "outputs": [
    {
     "name": "stdout",
     "output_type": "stream",
     "text": [
      "{'title': '10% Happier by Dan Harris', 'summary': 'Practicing meditation and mindfulness will make you at least 10 percent happier. Being mindful doesn’t change the problems in your life, but mindfulness does help you respond to your problems rather than react to them. Mindfulness helps you realize that striving for success is fine as long as you accept that the outcome is outside your control.'}\n"
     ]
    }
   ],
   "source": [
    "req = requests.get('https://jamesclear.com/book-summaries')\n",
    "soup = bs(req.text)\n",
    "\n",
    "# create a list of dictionaries books [{'book1':'summary1'}, {'book2':'summary2'}]\n",
    "books = []\n",
    "titles = [title.text for title in soup.select('.sale-book__title')]\n",
    "summaries = [p.text[29:] for p in soup.select('p') if 'The Book in Three Sentences:' in p.text]\n",
    "\n",
    "for title, summary in zip(titles, summaries):\n",
    "    book = {}\n",
    "    book['title'] = title\n",
    "    book['summary'] = summary\n",
    "    books.append(book)\n",
    "    \n",
    "print(books[0])"
   ]
  },
  {
   "cell_type": "markdown",
   "id": "8c9853bd-e999-48c6-bca5-2585e23eb667",
   "metadata": {},
   "source": [
    "**Now convert this data into a dataframe**"
   ]
  },
  {
   "cell_type": "code",
   "execution_count": 150,
   "id": "6fb7591b-4d0a-45ce-9245-8a71c50f17bd",
   "metadata": {},
   "outputs": [
    {
     "data": {
      "text/html": [
       "<div>\n",
       "<style scoped>\n",
       "    .dataframe tbody tr th:only-of-type {\n",
       "        vertical-align: middle;\n",
       "    }\n",
       "\n",
       "    .dataframe tbody tr th {\n",
       "        vertical-align: top;\n",
       "    }\n",
       "\n",
       "    .dataframe thead th {\n",
       "        text-align: right;\n",
       "    }\n",
       "</style>\n",
       "<table border=\"1\" class=\"dataframe\">\n",
       "  <thead>\n",
       "    <tr style=\"text-align: right;\">\n",
       "      <th></th>\n",
       "      <th>Title</th>\n",
       "      <th>Short Summary</th>\n",
       "    </tr>\n",
       "  </thead>\n",
       "  <tbody>\n",
       "    <tr>\n",
       "      <th>0</th>\n",
       "      <td>10% Happier by Dan Harris</td>\n",
       "      <td>Practicing meditation and mindfulness will mak...</td>\n",
       "    </tr>\n",
       "    <tr>\n",
       "      <th>1</th>\n",
       "      <td>The 10X Rule by Grant Cardone</td>\n",
       "      <td>The 10X Rule says that 1) you should set targe...</td>\n",
       "    </tr>\n",
       "    <tr>\n",
       "      <th>2</th>\n",
       "      <td>A Short Guide to a Happy Life by Anna Quindlen...</td>\n",
       "      <td>The only thing you have that nobody else has i...</td>\n",
       "    </tr>\n",
       "    <tr>\n",
       "      <th>3</th>\n",
       "      <td>A Technique for Producing Ideas by James Webb ...</td>\n",
       "      <td>An idea occurs when you develop a new combinat...</td>\n",
       "    </tr>\n",
       "    <tr>\n",
       "      <th>4</th>\n",
       "      <td>Adapt by Tim Harford</td>\n",
       "      <td>Seek out new ideas and try new things. When tr...</td>\n",
       "    </tr>\n",
       "  </tbody>\n",
       "</table>\n",
       "</div>"
      ],
      "text/plain": [
       "                                               Title  \\\n",
       "0                          10% Happier by Dan Harris   \n",
       "1                      The 10X Rule by Grant Cardone   \n",
       "2  A Short Guide to a Happy Life by Anna Quindlen...   \n",
       "3  A Technique for Producing Ideas by James Webb ...   \n",
       "4                               Adapt by Tim Harford   \n",
       "\n",
       "                                       Short Summary  \n",
       "0  Practicing meditation and mindfulness will mak...  \n",
       "1  The 10X Rule says that 1) you should set targe...  \n",
       "2  The only thing you have that nobody else has i...  \n",
       "3  An idea occurs when you develop a new combinat...  \n",
       "4  Seek out new ideas and try new things. When tr...  "
      ]
     },
     "execution_count": 150,
     "metadata": {},
     "output_type": "execute_result"
    }
   ],
   "source": [
    "data = pd.DataFrame({'Title':titles, 'Short Summary':summaries})\n",
    "data.head()"
   ]
  },
  {
   "cell_type": "markdown",
   "id": "38f233cd-582e-44e3-9425-aee50dc3289c",
   "metadata": {},
   "source": [
    "## Grab long summaries of all books without threading"
   ]
  },
  {
   "cell_type": "code",
   "execution_count": 151,
   "id": "f60ef464-edee-401e-b813-ff528fbc80d9",
   "metadata": {
    "tags": []
   },
   "outputs": [],
   "source": [
    "# Grab links of all book summary pages \n",
    "req = requests.get('https://jamesclear.com/book-summaries')\n",
    "soup = bs(req.text)\n",
    "links = ['https://jamesclear.com'+a['href'] for a in soup.find_all('a', string='read the book summary')]"
   ]
  },
  {
   "cell_type": "code",
   "execution_count": 157,
   "id": "cc3f92ac-076d-4f6b-a3c7-ef7604f9173e",
   "metadata": {},
   "outputs": [],
   "source": [
    "# Create a Book Summaries csv file and also a csv writer object \n",
    "# to write book data into the file \n",
    "f = open('Book Summaries.csv', mode='w', newline='', encoding='utf-8')\n",
    "writer = csv.writer(f, delimiter=',')\n",
    "writer.writerow(['Title', 'Short Summary', 'Full Summary'])\n",
    "\n",
    "# Iterate over all the links\n",
    "for link in links:\n",
    "    # get request of book page and turn it into a soup\n",
    "    book_page = requests.get(link)\n",
    "    book_page_soup = bs(book_page.text)\n",
    "    \n",
    "    # grab title (book name)\n",
    "    title = book_page_soup.select_one('h1').text\n",
    "    \n",
    "    # grab short summary \n",
    "    short_summary = book_page_soup.select_one('h2').find_next_sibling().text\n",
    "    \n",
    "    # grab full summary\n",
    "    full_summary = book_page_soup.select_one('.summary').get_text(separator=' ')\n",
    "    \n",
    "    # write grabbed info into Book Summaries file\n",
    "    writer.writerow([title, short_summary, full_summary])\n",
    "    \n",
    "# close Book Summaries file\n",
    "f.close()"
   ]
  },
  {
   "cell_type": "markdown",
   "id": "5befaf1d-1010-489d-85ef-92d5114df732",
   "metadata": {},
   "source": [
    "## Grab long summaries of all books with threading"
   ]
  },
  {
   "cell_type": "code",
   "execution_count": 159,
   "id": "e173232d-4d8e-4f8a-8757-f07e27f7f1d3",
   "metadata": {},
   "outputs": [],
   "source": [
    "# create a function to run concurrently in each thread\n",
    "def get_book_info(link, writer):\n",
    "    '''\n",
    "    link: link of the book page\n",
    "    writer: csv writer object needed to write data\n",
    "    '''\n",
    "    # get request of book page and turn it into a soup\n",
    "    book_page = requests.get(link)\n",
    "    book_page_soup = bs(book_page.text)\n",
    "    \n",
    "    # grab title (book name)\n",
    "    title = book_page_soup.select_one('h1').text\n",
    "    \n",
    "    # grab short summary \n",
    "    short_summary = book_page_soup.select_one('h2').find_next_sibling().text\n",
    "    \n",
    "    # grab full summary\n",
    "    full_summary = book_page_soup.select_one('.summary').get_text(separator=' ')\n",
    "    \n",
    "    # write grabbed info into Book Summaries file\n",
    "    writer.writerow([title, short_summary, full_summary])\n"
   ]
  },
  {
   "cell_type": "code",
   "execution_count": 160,
   "id": "88f73fe9-47f7-4fca-b134-febd1a5843f0",
   "metadata": {
    "tags": []
   },
   "outputs": [],
   "source": [
    "# Grab links of all book summary pages  \n",
    "req = requests.get('https://jamesclear.com/book-summaries')\n",
    "soup = bs(req.text)\n",
    "links = ['https://jamesclear.com'+a['href'] for a in soup.find_all('a', string='read the book summary')]\n",
    "\n",
    "# Create a Book Summaries2 csv file and also a csv writer object \n",
    "# to write book data into the file\n",
    "f = open('Book Summaries2.csv', mode='w', newline='', encoding='utf-8')\n",
    "writer = csv.writer(f, delimiter=',')\n",
    "writer.writerow(['Title', 'Short Summary', 'Full Summary'])\n",
    "\n",
    "# create a list for threads\n",
    "threads = []\n",
    "\n",
    "# iterate over all links\n",
    "for link in links:\n",
    "    \n",
    "    # create thread for each link and start it\n",
    "    t = threading.Thread(target=get_book_info, args=[link, writer])\n",
    "    t.start()\n",
    "    threads.append(t)\n",
    "    \n",
    "# join all threads\n",
    "for t in threads:\n",
    "    t.join()\n",
    "   \n",
    "#  the file\n",
    "f.close()"
   ]
  },
  {
   "cell_type": "code",
   "execution_count": null,
   "id": "d1f9c950-0c56-4c97-b483-8cfad6d760fa",
   "metadata": {},
   "outputs": [],
   "source": []
  }
 ],
 "metadata": {
  "kernelspec": {
   "display_name": "Python 3 (ipykernel)",
   "language": "python",
   "name": "python3"
  },
  "language_info": {
   "codemirror_mode": {
    "name": "ipython",
    "version": 3
   },
   "file_extension": ".py",
   "mimetype": "text/x-python",
   "name": "python",
   "nbconvert_exporter": "python",
   "pygments_lexer": "ipython3",
   "version": "3.9.12"
  }
 },
 "nbformat": 4,
 "nbformat_minor": 5
}
