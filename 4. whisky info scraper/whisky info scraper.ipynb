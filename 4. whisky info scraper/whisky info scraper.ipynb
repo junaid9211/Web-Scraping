{
 "cells": [
  {
   "cell_type": "markdown",
   "id": "4de97d91-7dff-4afe-b629-f283afd9715a",
   "metadata": {},
   "source": [
    "# Task\n",
    "#### scrape japanese whiskies from [Whisky exchange japanese](https://www.thewhiskyexchange.com/c/35/japanese-whisky)\n"
   ]
  },
  {
   "cell_type": "markdown",
   "id": "f4fbaefe-db49-4e2a-aa5e-3f1af6020135",
   "metadata": {},
   "source": [
    "## Imports"
   ]
  },
  {
   "cell_type": "code",
   "execution_count": 58,
   "id": "14e4d224-f849-46d4-b836-f37858d317eb",
   "metadata": {
    "tags": []
   },
   "outputs": [],
   "source": [
    "import requests\n",
    "from bs4 import BeautifulSoup\n",
    "import concurrent.futures\n",
    "import csv\n",
    "import os\n",
    "import re\n",
    "%config Completer.use_jedi= False"
   ]
  },
  {
   "cell_type": "markdown",
   "id": "fd121447-c74c-4433-853c-124f604b8c8f",
   "metadata": {},
   "source": [
    "## Catalog class"
   ]
  },
  {
   "cell_type": "code",
   "execution_count": 6,
   "id": "92a3f4b8-1ee5-439d-b415-17a460550b07",
   "metadata": {},
   "outputs": [],
   "source": [
    "class Catalog:\n",
    "    def __init__(self, link):\n",
    "        self.link = link\n",
    "        self.soup = self.get_soup()\n",
    "        self.whisky_links = self.get_links()\n",
    "        \n",
    "    def get_soup(self):\n",
    "        headers = {'User-Agent':'Mozilla/5.0 (Windows NT 10.0; Win64; x64) AppleWebKit/537.36 (KHTML, like Gecko) Chrome/104.0.0.0 Safari/537.36'}\n",
    "        req = requests.get(self.link, headers=headers)\n",
    "        soup = BeautifulSoup(req.text)\n",
    "        return soup\n",
    "    \n",
    "    def get_links(self):\n",
    "        atags = self.soup.select('a.product-card')\n",
    "        base_url = 'https://www.thewhiskyexchange.com'\n",
    "        links = [base_url+atag['href'] for atag in atags]\n",
    "        return links"
   ]
  },
  {
   "cell_type": "markdown",
   "id": "8a6523b5-6d5c-4c27-ad25-0377a2e8aee2",
   "metadata": {},
   "source": [
    "## Whisky class"
   ]
  },
  {
   "cell_type": "code",
   "execution_count": 54,
   "id": "90ea8a1a-2c78-46d1-a75d-3eda3ccfe688",
   "metadata": {},
   "outputs": [],
   "source": [
    "class Whisky:\n",
    "    def __init__(self, link):\n",
    "        self.link = link\n",
    "        self.soup = self.get_soup()\n",
    "        self.info = self.get_info()\n",
    "        \n",
    "    def get_soup(self):\n",
    "        headers = {\n",
    "        'User-Agent':'Mozilla/5.0 (Windows NT 10.0; Win64; x64) AppleWebKit/537.36 (KHTML, like Gecko) Chrome/104.0.0.0 Safari/537.36'\n",
    "        }\n",
    "        req = requests.get(self.link, headers=headers)\n",
    "        soup = BeautifulSoup(req.text)\n",
    "        return soup\n",
    "        \n",
    "    def get_info(self):\n",
    "        name = self.soup.select_one('.product-main__name').get_text(strip=True)\n",
    "        whisky_type = self.soup.select_one('.product-main__meta').get_text(strip=True)\n",
    "        concentration = self.soup.select_one('.product-main__data').get_text(strip=True)\n",
    "        price = self.soup.select_one('.product-action__price').get_text(strip=True)\n",
    "        \n",
    "        try:\n",
    "            description = self.soup.select_one('.product-main__description p').get_text(strip=True)\n",
    "        except:\n",
    "            description = 'no description'\n",
    "        \n",
    "        try:\n",
    "            rating = self.soup.select_one('.review-overview__content span').get_text(strip=True)\n",
    "        except:\n",
    "            rating = 'no rating'\n",
    "        \n",
    "        try:\n",
    "            review_count_text = self.soup.select_one('.review-overview__count').get_text()\n",
    "            review_count = re.search(r'(\\d+)\\xa0', review_count_text).group(1)\n",
    "        except:\n",
    "            review_count = '0'\n",
    "            \n",
    "        whisky = {\n",
    "            'name':name,\n",
    "            'whisky_type':whisky_type,\n",
    "            'concentration':concentration,\n",
    "            'rating':rating,\n",
    "            'review_count':review_count,\n",
    "            'price':price,\n",
    "            'description':description\n",
    "            }\n",
    "        \n",
    "        return whisky\n",
    "    \n",
    "    def save_image(self, path):\n",
    "        img_link = self.soup.select_one('img.product-main__image')['src']\n",
    "        with open(path+'/'+self.info['name']+'.jpg', mode='wb') as f:\n",
    "            img = requests.get(img_link)\n",
    "            f.write(img.content)\n",
    "        "
   ]
  },
  {
   "cell_type": "code",
   "execution_count": 56,
   "id": "71e6be29-bb58-40d5-bc2f-caede1e2ca90",
   "metadata": {},
   "outputs": [
    {
     "data": {
      "text/plain": [
       "70"
      ]
     },
     "execution_count": 56,
     "metadata": {},
     "output_type": "execute_result"
    }
   ],
   "source": [
    "# I will need to use csv.dictwriter\n",
    "CSV_FILE_NAME = 'Whisky.csv'\n",
    "f = open(CSV_FILE_NAME, mode='w', newline='', encoding='utf-8')\n",
    "\n",
    "# this list contains name of all columns of whisky.csv file\n",
    "keys = ['name', 'whisky_type', 'concentration', 'rating', 'review_count', 'price', 'description']\n",
    "\n",
    "# create csv writer object and write column names\n",
    "writer = csv.DictWriter(f, keys)\n",
    "writer.writeheader()"
   ]
  },
  {
   "cell_type": "code",
   "execution_count": 57,
   "id": "89c90943-988d-4b00-b7bc-aa429e021b89",
   "metadata": {},
   "outputs": [
    {
     "name": "stdout",
     "output_type": "stream",
     "text": [
      "Page 1 Completed info ✔ images ✔\n",
      "Page 2 Completed info ✔ images ✔\n",
      "Page 3 Completed info ✔ images ✔\n"
     ]
    }
   ],
   "source": [
    "# create images folder\n",
    "os.mkdir('images')\n",
    "\n",
    "for page_num in range(1,4):\n",
    "    catalog_url = f'https://www.thewhiskyexchange.com/c/35/japanese-whisky?pg={page_num}'\n",
    "    catalog = Catalog(catalog_url)\n",
    "    links = catalog.whisky_links\n",
    "    \n",
    "    # create whisky objects concurrently\n",
    "    with concurrent.futures.ThreadPoolExecutor() as executor:\n",
    "        whisky_objects = list(executor.map(Whisky, links))\n",
    "        \n",
    "    # output data of each whisky into whisky.csv file\n",
    "    for whisky in whisky_objects:\n",
    "        writer.writerow(whisky.info)\n",
    "        \n",
    "    print(f'Page {page_num} Completed info ✔', end=' ')\n",
    "    \n",
    "    # save images concurrently\n",
    "    with concurrent.futures.ThreadPoolExecutor() as executor:\n",
    "        executor.map(lambda x: x.save_image('images'), whisky_objects)\n",
    "    \n",
    "    print('images ✔')\n",
    "    \n",
    "        \n",
    "f.close()"
   ]
  }
 ],
 "metadata": {
  "kernelspec": {
   "display_name": "Python 3 (ipykernel)",
   "language": "python",
   "name": "python3"
  },
  "language_info": {
   "codemirror_mode": {
    "name": "ipython",
    "version": 3
   },
   "file_extension": ".py",
   "mimetype": "text/x-python",
   "name": "python",
   "nbconvert_exporter": "python",
   "pygments_lexer": "ipython3",
   "version": "3.9.12"
  }
 },
 "nbformat": 4,
 "nbformat_minor": 5
}
